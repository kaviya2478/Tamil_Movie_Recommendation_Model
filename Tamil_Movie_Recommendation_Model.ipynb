{
  "nbformat": 4,
  "nbformat_minor": 0,
  "metadata": {
    "colab": {
      "provenance": [],
      "include_colab_link": true
    },
    "kernelspec": {
      "name": "python3",
      "display_name": "Python 3"
    },
    "language_info": {
      "name": "python"
    }
  },
  "cells": [
    {
      "cell_type": "markdown",
      "metadata": {
        "id": "view-in-github",
        "colab_type": "text"
      },
      "source": [
        "<a href=\"https://colab.research.google.com/github/kaviya2478/Tamil_Movie_Recommendation_Model/blob/main/Tamil_Movie_Recommendation_Model.ipynb\" target=\"_parent\"><img src=\"https://colab.research.google.com/assets/colab-badge.svg\" alt=\"Open In Colab\"/></a>"
      ]
    },
    {
      "cell_type": "markdown",
      "source": [
        "Importing the denpendenices"
      ],
      "metadata": {
        "id": "uDRYT4sfupCj"
      }
    },
    {
      "cell_type": "code",
      "execution_count": 1,
      "metadata": {
        "id": "ubX3FYwZtq7p"
      },
      "outputs": [],
      "source": [
        "import numpy as np\n",
        "import pandas as pd\n",
        "import difflib\n",
        "from sklearn.feature_extraction.text import TfidfVectorizer\n",
        "from sklearn.metrics.pairwise import cosine_similarity"
      ]
    },
    {
      "cell_type": "markdown",
      "source": [
        "Data collection and pre-processing"
      ],
      "metadata": {
        "id": "rSHI115xwWc1"
      }
    },
    {
      "cell_type": "code",
      "source": [
        "# loading the data from the csv file to apandas dataframes\n",
        "movies_data = pd.read_csv('Tamil_movies_dataset.csv')"
      ],
      "metadata": {
        "id": "y9tZ-NpIwfdJ"
      },
      "execution_count": 2,
      "outputs": []
    },
    {
      "cell_type": "code",
      "source": [
        "# printing the first 5 rows of the dataframe\n",
        "movies_data.head()"
      ],
      "metadata": {
        "colab": {
          "base_uri": "https://localhost:8080/",
          "height": 206
        },
        "id": "mEl_DuJ7w8dZ",
        "outputId": "a5466d9c-25a5-4252-fc77-07dc71bd5aa3"
      },
      "execution_count": 3,
      "outputs": [
        {
          "output_type": "execute_result",
          "data": {
            "text/plain": [
              "          MovieName   Genre  Rating              Director  \\\n",
              "0        Mouna Guru  Action     7.7          Santha Kumar   \n",
              "1       7 Aum Arivu  Action     6.2       A.R. Murugadoss   \n",
              "2  Vaagai Sooda Vaa  Comedy     8.0           A. Sarkunam   \n",
              "3          Mankatha  Action     7.6         Venkat Prabhu   \n",
              "4  Kanchana: Muni 2  Comedy     6.5  Lawrence Raghavendra   \n",
              "\n",
              "                  Actor  PeopleVote  Year  Hero_Rating  movie_rating  \\\n",
              "0             Arulnithi         746  2011            8             8   \n",
              "1                Suriya        9479  2011            9             9   \n",
              "2                 Vimal       14522  2011            8             7   \n",
              "3           Ajith Kumar       12276  2011            6             8   \n",
              "4  Lawrence Raghavendra        1044  2011            8             9   \n",
              "\n",
              "   content_rating  \n",
              "0        7.900000  \n",
              "1        8.066667  \n",
              "2        7.666667  \n",
              "3        7.200000  \n",
              "4        7.833333  "
            ],
            "text/html": [
              "\n",
              "  <div id=\"df-e4f10528-e0ee-4ade-9506-b5ca10d2ba7d\" class=\"colab-df-container\">\n",
              "    <div>\n",
              "<style scoped>\n",
              "    .dataframe tbody tr th:only-of-type {\n",
              "        vertical-align: middle;\n",
              "    }\n",
              "\n",
              "    .dataframe tbody tr th {\n",
              "        vertical-align: top;\n",
              "    }\n",
              "\n",
              "    .dataframe thead th {\n",
              "        text-align: right;\n",
              "    }\n",
              "</style>\n",
              "<table border=\"1\" class=\"dataframe\">\n",
              "  <thead>\n",
              "    <tr style=\"text-align: right;\">\n",
              "      <th></th>\n",
              "      <th>MovieName</th>\n",
              "      <th>Genre</th>\n",
              "      <th>Rating</th>\n",
              "      <th>Director</th>\n",
              "      <th>Actor</th>\n",
              "      <th>PeopleVote</th>\n",
              "      <th>Year</th>\n",
              "      <th>Hero_Rating</th>\n",
              "      <th>movie_rating</th>\n",
              "      <th>content_rating</th>\n",
              "    </tr>\n",
              "  </thead>\n",
              "  <tbody>\n",
              "    <tr>\n",
              "      <th>0</th>\n",
              "      <td>Mouna Guru</td>\n",
              "      <td>Action</td>\n",
              "      <td>7.7</td>\n",
              "      <td>Santha Kumar</td>\n",
              "      <td>Arulnithi</td>\n",
              "      <td>746</td>\n",
              "      <td>2011</td>\n",
              "      <td>8</td>\n",
              "      <td>8</td>\n",
              "      <td>7.900000</td>\n",
              "    </tr>\n",
              "    <tr>\n",
              "      <th>1</th>\n",
              "      <td>7 Aum Arivu</td>\n",
              "      <td>Action</td>\n",
              "      <td>6.2</td>\n",
              "      <td>A.R. Murugadoss</td>\n",
              "      <td>Suriya</td>\n",
              "      <td>9479</td>\n",
              "      <td>2011</td>\n",
              "      <td>9</td>\n",
              "      <td>9</td>\n",
              "      <td>8.066667</td>\n",
              "    </tr>\n",
              "    <tr>\n",
              "      <th>2</th>\n",
              "      <td>Vaagai Sooda Vaa</td>\n",
              "      <td>Comedy</td>\n",
              "      <td>8.0</td>\n",
              "      <td>A. Sarkunam</td>\n",
              "      <td>Vimal</td>\n",
              "      <td>14522</td>\n",
              "      <td>2011</td>\n",
              "      <td>8</td>\n",
              "      <td>7</td>\n",
              "      <td>7.666667</td>\n",
              "    </tr>\n",
              "    <tr>\n",
              "      <th>3</th>\n",
              "      <td>Mankatha</td>\n",
              "      <td>Action</td>\n",
              "      <td>7.6</td>\n",
              "      <td>Venkat Prabhu</td>\n",
              "      <td>Ajith Kumar</td>\n",
              "      <td>12276</td>\n",
              "      <td>2011</td>\n",
              "      <td>6</td>\n",
              "      <td>8</td>\n",
              "      <td>7.200000</td>\n",
              "    </tr>\n",
              "    <tr>\n",
              "      <th>4</th>\n",
              "      <td>Kanchana: Muni 2</td>\n",
              "      <td>Comedy</td>\n",
              "      <td>6.5</td>\n",
              "      <td>Lawrence Raghavendra</td>\n",
              "      <td>Lawrence Raghavendra</td>\n",
              "      <td>1044</td>\n",
              "      <td>2011</td>\n",
              "      <td>8</td>\n",
              "      <td>9</td>\n",
              "      <td>7.833333</td>\n",
              "    </tr>\n",
              "  </tbody>\n",
              "</table>\n",
              "</div>\n",
              "    <div class=\"colab-df-buttons\">\n",
              "\n",
              "  <div class=\"colab-df-container\">\n",
              "    <button class=\"colab-df-convert\" onclick=\"convertToInteractive('df-e4f10528-e0ee-4ade-9506-b5ca10d2ba7d')\"\n",
              "            title=\"Convert this dataframe to an interactive table.\"\n",
              "            style=\"display:none;\">\n",
              "\n",
              "  <svg xmlns=\"http://www.w3.org/2000/svg\" height=\"24px\" viewBox=\"0 -960 960 960\">\n",
              "    <path d=\"M120-120v-720h720v720H120Zm60-500h600v-160H180v160Zm220 220h160v-160H400v160Zm0 220h160v-160H400v160ZM180-400h160v-160H180v160Zm440 0h160v-160H620v160ZM180-180h160v-160H180v160Zm440 0h160v-160H620v160Z\"/>\n",
              "  </svg>\n",
              "    </button>\n",
              "\n",
              "  <style>\n",
              "    .colab-df-container {\n",
              "      display:flex;\n",
              "      gap: 12px;\n",
              "    }\n",
              "\n",
              "    .colab-df-convert {\n",
              "      background-color: #E8F0FE;\n",
              "      border: none;\n",
              "      border-radius: 50%;\n",
              "      cursor: pointer;\n",
              "      display: none;\n",
              "      fill: #1967D2;\n",
              "      height: 32px;\n",
              "      padding: 0 0 0 0;\n",
              "      width: 32px;\n",
              "    }\n",
              "\n",
              "    .colab-df-convert:hover {\n",
              "      background-color: #E2EBFA;\n",
              "      box-shadow: 0px 1px 2px rgba(60, 64, 67, 0.3), 0px 1px 3px 1px rgba(60, 64, 67, 0.15);\n",
              "      fill: #174EA6;\n",
              "    }\n",
              "\n",
              "    .colab-df-buttons div {\n",
              "      margin-bottom: 4px;\n",
              "    }\n",
              "\n",
              "    [theme=dark] .colab-df-convert {\n",
              "      background-color: #3B4455;\n",
              "      fill: #D2E3FC;\n",
              "    }\n",
              "\n",
              "    [theme=dark] .colab-df-convert:hover {\n",
              "      background-color: #434B5C;\n",
              "      box-shadow: 0px 1px 3px 1px rgba(0, 0, 0, 0.15);\n",
              "      filter: drop-shadow(0px 1px 2px rgba(0, 0, 0, 0.3));\n",
              "      fill: #FFFFFF;\n",
              "    }\n",
              "  </style>\n",
              "\n",
              "    <script>\n",
              "      const buttonEl =\n",
              "        document.querySelector('#df-e4f10528-e0ee-4ade-9506-b5ca10d2ba7d button.colab-df-convert');\n",
              "      buttonEl.style.display =\n",
              "        google.colab.kernel.accessAllowed ? 'block' : 'none';\n",
              "\n",
              "      async function convertToInteractive(key) {\n",
              "        const element = document.querySelector('#df-e4f10528-e0ee-4ade-9506-b5ca10d2ba7d');\n",
              "        const dataTable =\n",
              "          await google.colab.kernel.invokeFunction('convertToInteractive',\n",
              "                                                    [key], {});\n",
              "        if (!dataTable) return;\n",
              "\n",
              "        const docLinkHtml = 'Like what you see? Visit the ' +\n",
              "          '<a target=\"_blank\" href=https://colab.research.google.com/notebooks/data_table.ipynb>data table notebook</a>'\n",
              "          + ' to learn more about interactive tables.';\n",
              "        element.innerHTML = '';\n",
              "        dataTable['output_type'] = 'display_data';\n",
              "        await google.colab.output.renderOutput(dataTable, element);\n",
              "        const docLink = document.createElement('div');\n",
              "        docLink.innerHTML = docLinkHtml;\n",
              "        element.appendChild(docLink);\n",
              "      }\n",
              "    </script>\n",
              "  </div>\n",
              "\n",
              "\n",
              "<div id=\"df-65c4cb94-862d-4dd2-9cdc-091443572a55\">\n",
              "  <button class=\"colab-df-quickchart\" onclick=\"quickchart('df-65c4cb94-862d-4dd2-9cdc-091443572a55')\"\n",
              "            title=\"Suggest charts\"\n",
              "            style=\"display:none;\">\n",
              "\n",
              "<svg xmlns=\"http://www.w3.org/2000/svg\" height=\"24px\"viewBox=\"0 0 24 24\"\n",
              "     width=\"24px\">\n",
              "    <g>\n",
              "        <path d=\"M19 3H5c-1.1 0-2 .9-2 2v14c0 1.1.9 2 2 2h14c1.1 0 2-.9 2-2V5c0-1.1-.9-2-2-2zM9 17H7v-7h2v7zm4 0h-2V7h2v10zm4 0h-2v-4h2v4z\"/>\n",
              "    </g>\n",
              "</svg>\n",
              "  </button>\n",
              "\n",
              "<style>\n",
              "  .colab-df-quickchart {\n",
              "      --bg-color: #E8F0FE;\n",
              "      --fill-color: #1967D2;\n",
              "      --hover-bg-color: #E2EBFA;\n",
              "      --hover-fill-color: #174EA6;\n",
              "      --disabled-fill-color: #AAA;\n",
              "      --disabled-bg-color: #DDD;\n",
              "  }\n",
              "\n",
              "  [theme=dark] .colab-df-quickchart {\n",
              "      --bg-color: #3B4455;\n",
              "      --fill-color: #D2E3FC;\n",
              "      --hover-bg-color: #434B5C;\n",
              "      --hover-fill-color: #FFFFFF;\n",
              "      --disabled-bg-color: #3B4455;\n",
              "      --disabled-fill-color: #666;\n",
              "  }\n",
              "\n",
              "  .colab-df-quickchart {\n",
              "    background-color: var(--bg-color);\n",
              "    border: none;\n",
              "    border-radius: 50%;\n",
              "    cursor: pointer;\n",
              "    display: none;\n",
              "    fill: var(--fill-color);\n",
              "    height: 32px;\n",
              "    padding: 0;\n",
              "    width: 32px;\n",
              "  }\n",
              "\n",
              "  .colab-df-quickchart:hover {\n",
              "    background-color: var(--hover-bg-color);\n",
              "    box-shadow: 0 1px 2px rgba(60, 64, 67, 0.3), 0 1px 3px 1px rgba(60, 64, 67, 0.15);\n",
              "    fill: var(--button-hover-fill-color);\n",
              "  }\n",
              "\n",
              "  .colab-df-quickchart-complete:disabled,\n",
              "  .colab-df-quickchart-complete:disabled:hover {\n",
              "    background-color: var(--disabled-bg-color);\n",
              "    fill: var(--disabled-fill-color);\n",
              "    box-shadow: none;\n",
              "  }\n",
              "\n",
              "  .colab-df-spinner {\n",
              "    border: 2px solid var(--fill-color);\n",
              "    border-color: transparent;\n",
              "    border-bottom-color: var(--fill-color);\n",
              "    animation:\n",
              "      spin 1s steps(1) infinite;\n",
              "  }\n",
              "\n",
              "  @keyframes spin {\n",
              "    0% {\n",
              "      border-color: transparent;\n",
              "      border-bottom-color: var(--fill-color);\n",
              "      border-left-color: var(--fill-color);\n",
              "    }\n",
              "    20% {\n",
              "      border-color: transparent;\n",
              "      border-left-color: var(--fill-color);\n",
              "      border-top-color: var(--fill-color);\n",
              "    }\n",
              "    30% {\n",
              "      border-color: transparent;\n",
              "      border-left-color: var(--fill-color);\n",
              "      border-top-color: var(--fill-color);\n",
              "      border-right-color: var(--fill-color);\n",
              "    }\n",
              "    40% {\n",
              "      border-color: transparent;\n",
              "      border-right-color: var(--fill-color);\n",
              "      border-top-color: var(--fill-color);\n",
              "    }\n",
              "    60% {\n",
              "      border-color: transparent;\n",
              "      border-right-color: var(--fill-color);\n",
              "    }\n",
              "    80% {\n",
              "      border-color: transparent;\n",
              "      border-right-color: var(--fill-color);\n",
              "      border-bottom-color: var(--fill-color);\n",
              "    }\n",
              "    90% {\n",
              "      border-color: transparent;\n",
              "      border-bottom-color: var(--fill-color);\n",
              "    }\n",
              "  }\n",
              "</style>\n",
              "\n",
              "  <script>\n",
              "    async function quickchart(key) {\n",
              "      const quickchartButtonEl =\n",
              "        document.querySelector('#' + key + ' button');\n",
              "      quickchartButtonEl.disabled = true;  // To prevent multiple clicks.\n",
              "      quickchartButtonEl.classList.add('colab-df-spinner');\n",
              "      try {\n",
              "        const charts = await google.colab.kernel.invokeFunction(\n",
              "            'suggestCharts', [key], {});\n",
              "      } catch (error) {\n",
              "        console.error('Error during call to suggestCharts:', error);\n",
              "      }\n",
              "      quickchartButtonEl.classList.remove('colab-df-spinner');\n",
              "      quickchartButtonEl.classList.add('colab-df-quickchart-complete');\n",
              "    }\n",
              "    (() => {\n",
              "      let quickchartButtonEl =\n",
              "        document.querySelector('#df-65c4cb94-862d-4dd2-9cdc-091443572a55 button');\n",
              "      quickchartButtonEl.style.display =\n",
              "        google.colab.kernel.accessAllowed ? 'block' : 'none';\n",
              "    })();\n",
              "  </script>\n",
              "</div>\n",
              "\n",
              "    </div>\n",
              "  </div>\n"
            ],
            "application/vnd.google.colaboratory.intrinsic+json": {
              "type": "dataframe",
              "variable_name": "movies_data",
              "summary": "{\n  \"name\": \"movies_data\",\n  \"rows\": 329,\n  \"fields\": [\n    {\n      \"column\": \"MovieName\",\n      \"properties\": {\n        \"dtype\": \"string\",\n        \"num_unique_values\": 328,\n        \"samples\": [\n          \"Raja Ranguski\",\n          \"Singam 3\",\n          \"Iruttu Araiyil Murattu Kuthu\"\n        ],\n        \"semantic_type\": \"\",\n        \"description\": \"\"\n      }\n    },\n    {\n      \"column\": \"Genre\",\n      \"properties\": {\n        \"dtype\": \"category\",\n        \"num_unique_values\": 12,\n        \"samples\": [\n          \"Family\",\n          \"Biography\",\n          \"Action\"\n        ],\n        \"semantic_type\": \"\",\n        \"description\": \"\"\n      }\n    },\n    {\n      \"column\": \"Rating\",\n      \"properties\": {\n        \"dtype\": \"number\",\n        \"std\": 1.4038352437705992,\n        \"min\": 1.2,\n        \"max\": 9.0,\n        \"num_unique_values\": 62,\n        \"samples\": [\n          2.7,\n          4.5,\n          7.7\n        ],\n        \"semantic_type\": \"\",\n        \"description\": \"\"\n      }\n    },\n    {\n      \"column\": \"Director\",\n      \"properties\": {\n        \"dtype\": \"string\",\n        \"num_unique_values\": 233,\n        \"samples\": [\n          \"Lakshman\",\n          \"Kalees\",\n          \"Rajath Ravishankar\"\n        ],\n        \"semantic_type\": \"\",\n        \"description\": \"\"\n      }\n    },\n    {\n      \"column\": \"Actor\",\n      \"properties\": {\n        \"dtype\": \"string\",\n        \"num_unique_values\": 178,\n        \"samples\": [\n          \"Prasanna\",\n          \"Anucharan\",\n          \"Vijay Deverakonda\"\n        ],\n        \"semantic_type\": \"\",\n        \"description\": \"\"\n      }\n    },\n    {\n      \"column\": \"PeopleVote\",\n      \"properties\": {\n        \"dtype\": \"number\",\n        \"std\": 14380,\n        \"min\": 7,\n        \"max\": 71418,\n        \"num_unique_values\": 321,\n        \"samples\": [\n          510,\n          175,\n          701\n        ],\n        \"semantic_type\": \"\",\n        \"description\": \"\"\n      }\n    },\n    {\n      \"column\": \"Year\",\n      \"properties\": {\n        \"dtype\": \"number\",\n        \"std\": 2,\n        \"min\": 2011,\n        \"max\": 2019,\n        \"num_unique_values\": 9,\n        \"samples\": [\n          2018,\n          2012,\n          2016\n        ],\n        \"semantic_type\": \"\",\n        \"description\": \"\"\n      }\n    },\n    {\n      \"column\": \"Hero_Rating\",\n      \"properties\": {\n        \"dtype\": \"number\",\n        \"std\": 1,\n        \"min\": 1,\n        \"max\": 10,\n        \"num_unique_values\": 10,\n        \"samples\": [\n          1,\n          9,\n          2\n        ],\n        \"semantic_type\": \"\",\n        \"description\": \"\"\n      }\n    },\n    {\n      \"column\": \"movie_rating\",\n      \"properties\": {\n        \"dtype\": \"number\",\n        \"std\": 0,\n        \"min\": 6,\n        \"max\": 10,\n        \"num_unique_values\": 5,\n        \"samples\": [\n          9,\n          6,\n          7\n        ],\n        \"semantic_type\": \"\",\n        \"description\": \"\"\n      }\n    },\n    {\n      \"column\": \"content_rating\",\n      \"properties\": {\n        \"dtype\": \"number\",\n        \"std\": 0.8559996842207791,\n        \"min\": 4.3,\n        \"max\": 8.766666667,\n        \"num_unique_values\": 98,\n        \"samples\": [\n          8.333333333,\n          8.5,\n          5.133333333\n        ],\n        \"semantic_type\": \"\",\n        \"description\": \"\"\n      }\n    }\n  ]\n}"
            }
          },
          "metadata": {},
          "execution_count": 3
        }
      ]
    },
    {
      "cell_type": "code",
      "source": [
        "# number of rows and columns in the data frame\n",
        "movies_data.shape"
      ],
      "metadata": {
        "colab": {
          "base_uri": "https://localhost:8080/"
        },
        "id": "p6YHBOog1w9O",
        "outputId": "03792ba5-c0d8-47f4-9601-915583095224"
      },
      "execution_count": 4,
      "outputs": [
        {
          "output_type": "execute_result",
          "data": {
            "text/plain": [
              "(329, 10)"
            ]
          },
          "metadata": {},
          "execution_count": 4
        }
      ]
    },
    {
      "cell_type": "code",
      "source": [
        "# selecting the relevant features for recommendation\n",
        "selected_features = ['Genre', 'Director', 'MovieName','Actor']\n",
        "print(selected_features)"
      ],
      "metadata": {
        "colab": {
          "base_uri": "https://localhost:8080/"
        },
        "id": "XH5rHWDV2Skg",
        "outputId": "e97b44d6-03e2-4a64-cda2-9b746e5b51eb"
      },
      "execution_count": 5,
      "outputs": [
        {
          "output_type": "stream",
          "name": "stdout",
          "text": [
            "['Genre', 'Director', 'MovieName', 'Actor']\n"
          ]
        }
      ]
    },
    {
      "cell_type": "code",
      "source": [
        "# for feature in selected_features:\n",
        "  # movies_data[feature] = movies_data.fillna('')"
      ],
      "metadata": {
        "id": "_corU6HBABNK"
      },
      "execution_count": 6,
      "outputs": []
    },
    {
      "cell_type": "code",
      "source": [
        "# combining all the 5 selected features\n",
        "combined_features = movies_data['MovieName']+'  '+movies_data['Genre']+'  '+movies_data['Actor']+'  '+movies_data['Director']"
      ],
      "metadata": {
        "id": "Tffz1pKuBF_w"
      },
      "execution_count": 7,
      "outputs": []
    },
    {
      "cell_type": "code",
      "source": [
        "print(combined_features)"
      ],
      "metadata": {
        "colab": {
          "base_uri": "https://localhost:8080/"
        },
        "id": "Gq7H5kUpB2Zy",
        "outputId": "6a55d397-f44b-4dd7-813c-aec5a9f2d3e4"
      },
      "execution_count": 8,
      "outputs": [
        {
          "output_type": "stream",
          "name": "stdout",
          "text": [
            "0            Mouna Guru  Action  Arulnithi  Santha Kumar\n",
            "1           7 Aum Arivu  Action  Suriya  A.R. Murugadoss\n",
            "2           Vaagai Sooda Vaa  Comedy  Vimal  A. Sarkunam\n",
            "3           Mankatha  Action  Ajith Kumar  Venkat Prabhu\n",
            "4      Kanchana: Muni 2  Comedy  Lawrence Raghavendra...\n",
            "                             ...                        \n",
            "324        Dhilluku Dhuddu 2  Comedy  Santhanam  Rambala\n",
            "325              Dev  Action  Karthi  Rajath Ravishankar\n",
            "326    Charlie Chaplin 2  Comedy  Prabhu Deva  Sakthi...\n",
            "327         Petta  Action  Rajinikanth  Karthik Subbaraj\n",
            "328                  Viswasam  Action  Ajith Kumar  Siva\n",
            "Length: 329, dtype: object\n"
          ]
        }
      ]
    },
    {
      "cell_type": "code",
      "source": [
        "# converting the text data to feature vectors\n",
        "vectorizer = TfidfVectorizer()"
      ],
      "metadata": {
        "id": "ZuoexXJ8B7Sb"
      },
      "execution_count": 9,
      "outputs": []
    },
    {
      "cell_type": "code",
      "source": [
        "feature_vectors = vectorizer.fit_transform(combined_features)"
      ],
      "metadata": {
        "id": "habI7u2YCxgH"
      },
      "execution_count": 10,
      "outputs": []
    },
    {
      "cell_type": "code",
      "source": [
        "print(feature_vectors)"
      ],
      "metadata": {
        "colab": {
          "base_uri": "https://localhost:8080/"
        },
        "id": "RuRax7XYDJKe",
        "outputId": "da660f27-cde8-4886-b707-9a9417f8e266"
      },
      "execution_count": 11,
      "outputs": [
        {
          "output_type": "stream",
          "name": "stdout",
          "text": [
            "  (0, 431)\t0.27131371441269614\n",
            "  (0, 769)\t0.4683054208839953\n",
            "  (0, 102)\t0.42634011385976733\n",
            "  (0, 30)\t0.14858490160136792\n",
            "  (0, 284)\t0.5016151589976136\n",
            "  (0, 512)\t0.5016151589976136\n",
            "  (1, 523)\t0.4495141896371242\n",
            "  (1, 865)\t0.4131151099763389\n",
            "  (1, 97)\t0.5481379069728229\n",
            "  (1, 117)\t0.5481379069728229\n",
            "  (1, 30)\t0.16236554161219863\n",
            "  (2, 779)\t0.42687377414388333\n",
            "  (2, 990)\t0.3886211975268459\n",
            "  (2, 197)\t0.19888828870031153\n",
            "  (2, 936)\t0.45723655234419547\n",
            "  (2, 845)\t0.45723655234419547\n",
            "  (2, 937)\t0.45723655234419547\n",
            "  (3, 653)\t0.3675946132919421\n",
            "  (3, 973)\t0.48102551255383863\n",
            "  (3, 53)\t0.4374612008802235\n",
            "  (3, 482)\t0.5659558674344395\n",
            "  (3, 431)\t0.30611433054404114\n",
            "  (3, 30)\t0.1676434520868678\n",
            "  (4, 680)\t0.6192060289183977\n",
            "  (4, 446)\t0.6192060289183977\n",
            "  :\t:\n",
            "  (324, 225)\t0.49624238757091604\n",
            "  (324, 770)\t0.46328942816694696\n",
            "  (324, 197)\t0.21585500708228575\n",
            "  (325, 730)\t0.5230113639338784\n",
            "  (325, 692)\t0.5230113639338784\n",
            "  (325, 213)\t0.5230113639338784\n",
            "  (325, 384)\t0.3941779876594664\n",
            "  (325, 30)\t0.1549227343962351\n",
            "  (326, 180)\t0.45056180753790714\n",
            "  (326, 182)\t0.42064226554663814\n",
            "  (326, 214)\t0.39941401267176874\n",
            "  (326, 754)\t0.42064226554663814\n",
            "  (326, 189)\t0.39941401267176874\n",
            "  (326, 653)\t0.29264489147681\n",
            "  (326, 197)\t0.19598491501938445\n",
            "  (327, 638)\t0.5812345868534476\n",
            "  (327, 699)\t0.46198210260983225\n",
            "  (327, 856)\t0.47665594912312875\n",
            "  (327, 386)\t0.43805908552483863\n",
            "  (327, 30)\t0.17216920650386905\n",
            "  (328, 998)\t0.6015362958468317\n",
            "  (328, 834)\t0.5332498708774407\n",
            "  (328, 53)\t0.4649634459080498\n",
            "  (328, 431)\t0.32535908026861454\n",
            "  (328, 30)\t0.178182835436355\n"
          ]
        }
      ]
    },
    {
      "cell_type": "markdown",
      "source": [
        "Cosine Similarity"
      ],
      "metadata": {
        "id": "To_BcOZBDVI9"
      }
    },
    {
      "cell_type": "code",
      "source": [
        "# getting the similarity scores using cosine similarity\n",
        "similarity = cosine_similarity(feature_vectors)"
      ],
      "metadata": {
        "id": "jkD1tel5Dafj"
      },
      "execution_count": 12,
      "outputs": []
    },
    {
      "cell_type": "code",
      "source": [
        "print(similarity)"
      ],
      "metadata": {
        "colab": {
          "base_uri": "https://localhost:8080/"
        },
        "id": "0g_i4H8DD7JG",
        "outputId": "2b3b5009-14cd-4539-f6fe-2b6e802e9b23"
      },
      "execution_count": 13,
      "outputs": [
        {
          "output_type": "stream",
          "name": "stdout",
          "text": [
            "[[1.         0.02412507 0.         ... 0.         0.02558174 0.11474966]\n",
            " [0.02412507 1.         0.         ... 0.         0.02795435 0.02893075]\n",
            " [0.         0.         1.         ... 0.0389791  0.         0.        ]\n",
            " ...\n",
            " [0.         0.         0.0389791  ... 1.         0.         0.        ]\n",
            " [0.02558174 0.02795435 0.         ... 0.         1.         0.0306776 ]\n",
            " [0.11474966 0.02893075 0.         ... 0.         0.0306776  1.        ]]\n"
          ]
        }
      ]
    },
    {
      "cell_type": "code",
      "source": [
        "print(similarity.shape)"
      ],
      "metadata": {
        "colab": {
          "base_uri": "https://localhost:8080/"
        },
        "id": "udUURKbsECf4",
        "outputId": "f173d2e2-7c6b-4edd-a767-90eed7eedfad"
      },
      "execution_count": 14,
      "outputs": [
        {
          "output_type": "stream",
          "name": "stdout",
          "text": [
            "(329, 329)\n"
          ]
        }
      ]
    },
    {
      "cell_type": "code",
      "source": [
        "#getting the movie name from the user\n",
        "\n",
        "movie_name = input('Enter your favourite movie name : ')"
      ],
      "metadata": {
        "colab": {
          "base_uri": "https://localhost:8080/"
        },
        "id": "6sXpmCiOEGqa",
        "outputId": "dc138a86-6063-4ade-8c9a-f352dfc5d0ad"
      },
      "execution_count": 15,
      "outputs": [
        {
          "name": "stdout",
          "output_type": "stream",
          "text": [
            "Enter your favourite movie name : 7 Aum Arivu\n"
          ]
        }
      ]
    },
    {
      "cell_type": "code",
      "source": [
        "# Creating a list with all the movie names given in the dataset\n",
        "list_of_all_titles = movies_data['MovieName'].tolist()\n",
        "print(list_of_all_titles)"
      ],
      "metadata": {
        "colab": {
          "base_uri": "https://localhost:8080/"
        },
        "id": "MvXW00vgZNlO",
        "outputId": "3b01ffa8-2745-4177-d1cc-51a76fa9fb57"
      },
      "execution_count": 16,
      "outputs": [
        {
          "output_type": "stream",
          "name": "stdout",
          "text": [
            "['Mouna Guru', '7 Aum Arivu', 'Vaagai Sooda Vaa', 'Mankatha', 'Kanchana: Muni 2', 'Deiva Thirumagal', 'Vaanam', 'Ko', 'Payanam', 'Yutham Sei', 'Aadukalam', 'Naduvula Konjam Pakkatha Kaanom', 'Thuppakki', 'Pizza', 'Naan', 'The Fly', 'Kalakalappu', 'Vazhakku Enn 18/9', 'Kumki', 'Neethaane En Ponvasantham', 'Thalaimuraigal', 'Biriyani', 'Ivan Veramaathiri', 'Kalyana Samayal Saadham', 'Irandam Ulagam', 'Pandiya Naadu', 'Arrambam', 'Onaayum Aattukkuttiyum', 'Raja Rani', '6 Candles', 'Moodar Koodam', 'Varuthapadatha Valibar Sangam', 'Thanga Meengal', 'Aadhalal Kadhal Seiveer', 'Maryan', 'Singam 2', 'Theeya Velai Seiyyanum Kumaru', 'Neram', 'Soodhu Kavvum', 'Ethir Neechal', 'Kedi Billa Killadi Ranga', 'Paradesi', 'Kaakkaa Muttai', 'Kayal', 'Pisasu', 'Lingaa', 'Kaaviya Thalaivan', 'Kaththi', 'Jeeva', 'Madras', 'Kathai Thiraikathai Vasanam Iyakkam', 'Jigarthanda', 'Velaiilla Pattadhari', 'Sathuranga Vettai', 'Saivam', 'Mundaasupatti', 'Kochadaiiyaan', 'Vaayai Moodi Pesavum', 'Cuckoo', 'Thegidi', 'Pannaiyarum Padminiyum', 'Goli Soda', 'Veeram', 'Rajini Murugan', 'Visaaranai', 'Pasanga 2', 'Thoongaavanam', 'Naanum Rowdy Thaan', 'Kuttram Kadithal', 'Kirumi', 'Maya', 'Thani Oruvan', 'Papanasam', 'Indru Netru Naalai', 'Demonte Colony', '36 Vayadhinile', 'Uttama Villain', 'Kanchana 2', 'OK Kanmani', 'Rajathandhiram', 'Enakkul Oruvan', 'Press 1 for Tamil', 'Yennai Arindhaal', 'I', 'Dhuruvangal Pathinaaru', 'Chennai 600028 Second Innings', 'Achcham Yenbadhu Madamaiyada', 'Ammani', 'Aandavan Kattalai', 'Kuttrame Thandanai', 'Dharmadurai', 'Joker', 'Kabali', 'Metro', 'Iraivi', 'Uriyadi', '24', 'Theri', 'Oopiri', 'Kadhalum Kadanthu Pogum', 'Pichaikkaran', 'Saala Khadoos', 'Crime 23', 'Muthuramalingam', 'Dream Factory', 'Yaman', 'Ennodu Vilayadu', 'Kadhal Kan Kattudhe', 'Pagadi Aattam', 'Rum', 'Singam 3', 'Bogan', 'Enakku Vaaitha Adimaigal', 'Koditta Idangalai Nirappuga', 'Adhe Kangal', 'Bairavaa', 'Lens', 'Aruvi', 'Ulkuththu', 'Balloon', 'Kalavaadiya Pozhuthugal', 'Velaikkaran', 'Sakka Podu Podu Raja', 'Bhrama.com', 'Chennai 2 Singapore', '12-12-1950', 'Kodiveeran', 'Richie', 'Annadurai', 'Thiruttu Payale 2', 'English Padam', 'Indrajith', 'En Aaloda Seruppa Kaanom', 'Theeran Adhigaram Ondru', 'C/o Surya', 'Ippadai Vellum', 'Aramm', 'The House Next Door', 'Vizhithiru', 'Kadaisi Bench Karthi', 'Mersal', 'Meyaadha Maan', 'Solo', 'Hara Hara Mahadevaki', 'Karuppan', 'Spyder', 'Bayama Irukku', 'Aayirathil Iruvar', 'Kalavu Thozhirchalai', 'Veedevadu', 'Thupparivaalan', 'Kathanayagan', 'Neruppu Da', 'Kurangu Bommai', 'Maayavan', 'Puriyaatha Puthir', 'Vivegam', 'Thappu Thanda', 'Taramani', 'Velaiyilla Pattathari 2', 'Podhuvaga En Manasu Thangam', 'Kootathil Oruthan', 'Nibunan', 'Meesaya murukku', 'Vikram Vedha', 'Rubaai', 'Magalir Mattum', 'Pandigai', 'Thiri', 'Gemini Ganesanum Suruli Rajanum', 'Chennaiyil Oru Naal 2', 'Ivan Thanthiran', 'Adhagappattathu Magajanangalay', 'Yaanum Theeyavan', 'Vanamagan', 'Anbanavan Asaradhavan Adangadhavan', 'Maragatha Nananya', 'Uru', 'Peechaankai', 'Rangoon', 'Sathriyan', 'Bongu', 'Oru Kidayin Karunai Manu', 'Oru Iyakkunarin Kadhal Diary', '7 Naatkal', 'Thondan', 'Brindavanam', 'Inayathalam', 'Sangili Bungili Kadhava Thorae', 'Yeidhavan', 'Saravanan Irukka Bayamaen', 'Enga Amma Rani', 'Baahubali 2: The Conclusion', 'Nagarvalam', 'Sathya', 'Kadamban - Taqatwar', 'Sivalinga - Kanchana Returns', 'Power Paandi', '8 Thottakkal', 'Kaatru Veliyidai', 'Dora', 'Kavan', 'Kadugu', 'Paambhu Sattai', 'Dhayam', 'Vaigai Express', 'Julieum 4 Perum', 'Bruce Lee', 'Kattappava Kanom', 'Oru Mugathirai', 'Maanagaram', 'ACP Shiva', 'Mupparimanam', 'Yaakkai', 'Peranbu', 'Maari 2', 'Adanga Maru', 'Kanaa', 'Seethakaathi', 'Thuppakki Munai', 'Thuppakki Munai', '2', 'Kaatrin Mozhi', 'Sarkar', 'Pandem Kodi 2', 'Vada Chennai', 'Aan Devathai', 'Raatchasan', 'Nota', '96', 'Pariyerum Perumal', 'Chekka Chivantha Vaanam', 'Raja Ranguski', 'Saamy Square', 'U Turn', 'Seema Raja', 'Imaikkaa Nodigal', 'Lakshmi', 'Odu Raja Odu', 'Kolamavu Kokila', 'Pyaar Prema Kaadhal', 'Vishwaroopam 2', 'Ghajinikanth', 'Junga', 'Mohini', 'Chinababu', 'Tamizh Padam 2.0', 'Goli Soda 2', 'Iravukku Aayiram Kangal', 'Irumbu Thirai', 'Mahanati', 'Iruttu Araiyil Murattu Kuthu', 'Kaala', 'Karu', 'Mercury', 'Tik Tik Tik', '6 Athiyayam', 'Naachiyaar', 'Savarakathi', 'Kalakalappu 2', 'Merku Thodarchi Malai', 'Bhaagamathie', 'Nimir', 'Oru Nalla Naal Paathu Solren', 'Thaanaa Serndha Koottam', 'Sketch', 'Enai Noki Paayum Thota', 'Adithya Varma', 'Kaithi', 'Bigil', '100% Kadhal', 'Asuran', 'Kaappaan', 'Magamuni', 'Saaho', 'Sixer', 'Bakrid', 'Kennedy Club', 'Comali', 'Nerkonda Paarvai', 'Jackpot', 'A1', 'Aame', 'Kadaram Kondan', 'Sivappu Manjal Pachai', 'Gurkha', 'Vennila Kabaddi Kuzhu 2', 'Bodhai Yeri Budhi Maari', 'Kalavani 2', 'Raatchasi', 'Jiivi', 'Dharma Prabhu', 'House Owner', 'Sindhubaadh', 'Thumbaa', 'Game Over', 'Kolaigaran', 'NGK', 'Devi 2', 'Neeya 2', 'Ayogya', 'Kee', 'K-13', 'Mr. Local', '100', 'Vellai Pookal', 'Mehandi Circus', 'Kanchana 3', 'Watchman', 'Gangs Of Madras', 'Uriyadi 2', 'Kuppathu Raja', 'Natpe Thunai', 'Super Deluxe', 'Airaa', 'Agni Devi', 'Nedunalvaadai', 'Ispade Rajavum Idhaya Raniyum', 'Sathru', 'Boomerang', 'Thadam', '90 ML', 'LKG', 'Vantha Rajavathaan Varuven', 'Dhilluku Dhuddu 2', 'Dev', 'Charlie Chaplin 2', 'Petta', 'Viswasam']\n"
          ]
        }
      ]
    },
    {
      "cell_type": "code",
      "source": [
        "#Finding the close for the movie name given by the user\n",
        "find_close_match = difflib.get_close_matches(movie_name, list_of_all_titles)\n",
        "print(find_close_match)"
      ],
      "metadata": {
        "colab": {
          "base_uri": "https://localhost:8080/"
        },
        "id": "3stHYGKcZ9xL",
        "outputId": "db0be281-4fa2-4527-c0ac-fbea35fb8f0a"
      },
      "execution_count": 17,
      "outputs": [
        {
          "output_type": "stream",
          "name": "stdout",
          "text": [
            "['7 Aum Arivu']\n"
          ]
        }
      ]
    },
    {
      "cell_type": "code",
      "source": [
        "close_match = find_close_match[0]\n",
        "print(close_match)"
      ],
      "metadata": {
        "colab": {
          "base_uri": "https://localhost:8080/"
        },
        "id": "BY7KK14Ua2qr",
        "outputId": "07adc46b-928a-4888-b706-3ae95f69a52c"
      },
      "execution_count": 18,
      "outputs": [
        {
          "output_type": "stream",
          "name": "stdout",
          "text": [
            "7 Aum Arivu\n"
          ]
        }
      ]
    },
    {
      "source": [
        "# finding the index of the movie with title\n",
        "index_of_the_movie = movies_data[movies_data['MovieName'] == close_match].values[0]\n",
        "print(index_of_the_movie)"
      ],
      "cell_type": "code",
      "metadata": {
        "colab": {
          "base_uri": "https://localhost:8080/"
        },
        "id": "6P4IIBqyBmhL",
        "outputId": "88cf2401-9c86-4b83-f9b8-75f71e1d0872"
      },
      "execution_count": 25,
      "outputs": [
        {
          "output_type": "stream",
          "name": "stdout",
          "text": [
            "['7 Aum Arivu' 'Action' 6.2 'A.R. Murugadoss' 'Suriya' 9479 2011 9 9\n",
            " 8.066666667]\n"
          ]
        }
      ]
    },
    {
      "source": [
        "similarity_score = list(enumerate(similarity[index_of_the_movie])) # Now index_of_the_movie is an integer\n",
        "print(similarity_score)"
      ],
      "cell_type": "code",
      "metadata": {
        "colab": {
          "base_uri": "https://localhost:8080/"
        },
        "id": "a5UftVDr4zqz",
        "outputId": "36067649-b28b-40ca-ddc3-3e6260bdbf6a"
      },
      "execution_count": 27,
      "outputs": [
        {
          "output_type": "stream",
          "name": "stdout",
          "text": [
            "[(0, 0.02412506802390135), (1, 1.0000000000000002), (2, 0.0), (3, 0.027219519895822962), (4, 0.0), (5, 0.0), (6, 0.02345791242408337), (7, 0.030996017660517693), (8, 0.023910972881478955), (9, 0.0), (10, 0.031187338411667275), (11, 0.0), (12, 0.2713869984985855), (13, 0.0), (14, 0.0), (15, 0.024851983285863556), (16, 0.0), (17, 0.0), (18, 0.0), (19, 0.0), (20, 0.0), (21, 0.028742052357770845), (22, 0.025792100568123907), (23, 0.0), (24, 0.02523672866575574), (25, 0.02646499235563454), (26, 0.027871029323693685), (27, 0.021557633187818687), (28, 0.0), (29, 0.0), (30, 0.0), (31, 0.0), (32, 0.0), (33, 0.0), (34, 0.0), (35, 0.23633493008211426), (36, 0.0), (37, 0.021881747677088625), (38, 0.0), (39, 0.0), (40, 0.0), (41, 0.0), (42, 0.0), (43, 0.0), (44, 0.0), (45, 0.029878323989274345), (46, 0.0), (47, 0.2598435923570482), (48, 0.0), (49, 0.02732016643729545), (50, 0.0), (51, 0.027763798961781817), (52, 0.025154113678287512), (53, 0.0), (54, 0.0), (55, 0.0), (56, 0.0), (57, 0.0), (58, 0.0), (59, 0.0), (60, 0.0), (61, 0.023599859609385182), (62, 0.02893075258162104), (63, 0.026510718859468322), (64, 0.0), (65, 0.19734824603852183), (66, 0.02392580725616584), (67, 0.02048979461309887), (68, 0.0), (69, 0.0), (70, 0.0), (71, 0.022890046071782456), (72, 0.0), (73, 0.0), (74, 0.0), (75, 0.0), (76, 0.0), (77, 0.0), (78, 0.0), (79, 0.023787902496513903), (80, 0.0), (81, 0.0), (82, 0.02152897664908585), (83, 0.04420600473514908), (84, 0.02188174767708863), (85, 0.0), (86, 0.01982319048860822), (87, 0.0), (88, 0.0), (89, 0.0), (90, 0.0), (91, 0.0), (92, 0.026510718859468322), (93, 0.024851983285863556), (94, 0.0), (95, 0.027295033659358394), (96, 0.2314206197642128), (97, 0.028171858196767707), (98, 0.0), (99, 0.0), (100, 0.028361452006414357), (101, 0.021322363822450906), (102, 0.023168167044818153), (103, 0.02550161192060776), (104, 0.0), (105, 0.026000332319730483), (106, 0.0), (107, 0.0), (108, 0.0), (109, 0.0), (110, 0.23633493008211426), (111, 0.025958189380686236), (112, 0.0), (113, 0.0), (114, 0.021596624327428312), (115, 0.028244344342524364), (116, 0.0), (117, 0.0), (118, 0.0), (119, 0.0), (120, 0.0), (121, 0.02859028398168388), (122, 0.017382159129534894), (123, 0.02417054243696602), (124, 0.0), (125, 0.0), (126, 0.02795762854181821), (127, 0.02293099440342292), (128, 0.028361452006414357), (129, 0.0), (130, 0.0), (131, 0.023401693910854057), (132, 0.0), (133, 0.022820639655766244), (134, 0.026348027010518933), (135, 0.01949259999950466), (136, 0.0), (137, 0.0), (138, 0.0), (139, 0.0), (140, 0.028171858196767707), (141, 0.0), (142, 0.022280823582209747), (143, 0.0), (144, 0.02417054243696602), (145, 0.22842557578814313), (146, 0.0), (147, 0.021322363822450906), (148, 0.0), (149, 0.0), (150, 0.0313573130996704), (151, 0.0), (152, 0.021322363822450906), (153, 0.0), (154, 0.027992434944401987), (155, 0.0), (156, 0.02893075258162104), (157, 0.0), (158, 0.0), (159, 0.020266174807358296), (160, 0.0), (161, 0.0), (162, 0.02228961530293056), (163, 0.0), (164, 0.025519141606280785), (165, 0.027370163007129876), (166, 0.0), (167, 0.027370163007129876), (168, 0.0), (169, 0.0), (170, 0.0), (171, 0.023510409451269858), (172, 0.0), (173, 0.017475564185273854), (174, 0.03240233248326921), (175, 0.01806524852257194), (176, 0.0), (177, 0.0), (178, 0.0), (179, 0.023401693910854057), (180, 0.02564883146478757), (181, 0.0), (182, 0.0), (183, 0.0), (184, 0.0), (185, 0.0), (186, 0.0), (187, 0.0), (188, 0.0), (189, 0.022178470430645567), (190, 0.020110322842733407), (191, 0.021596624327428315), (192, 0.022383496008018887), (193, 0.0), (194, 0.023787902496513903), (195, 0.02480211187319078), (196, 0.0), (197, 0.023033705350720145), (198, 0.024572261880047973), (199, 0.0), (200, 0.025379581210419278), (201, 0.0312813669121083), (202, 0.0), (203, 0.019917212304659725), (204, 0.0), (205, 0.0), (206, 0.0), (207, 0.022227707751646897), (208, 0.0), (209, 0.0), (210, 0.02314796451728254), (211, 0.019844772457309992), (212, 0.0), (213, 0.0), (214, 0.0), (215, 0.029613272555807268), (216, 0.021506902416031697), (217, 0.0), (218, 0.0), (219, 0.02363880328739977), (220, 0.02363880328739977), (221, 0.041374266027189806), (222, 0.0), (223, 0.2598435923570482), (224, 0.025243041056181508), (225, 0.0270383330032714), (226, 0.02417054243696602), (227, 0.026831319259811467), (228, 0.0), (229, 0.0), (230, 0.0), (231, 0.018911547806398272), (232, 0.0), (233, 0.026325076628771756), (234, 0.0), (235, 0.027434126954727498), (236, 0.02315708048641605), (237, 0.0), (238, 0.0), (239, 0.0), (240, 0.0), (241, 0.020447320209984098), (242, 0.0), (243, 0.02891610885561469), (244, 0.0), (245, 0.031187338411667275), (246, 0.0), (247, 0.0), (248, 0.019701475215889327), (249, 0.025243041056181508), (250, 0.0), (251, 0.0), (252, 0.026510718859468322), (253, 0.0), (254, 0.0), (255, 0.013122446541547544), (256, 0.0), (257, 0.028690268154300775), (258, 0.0), (259, 0.0), (260, 0.0), (261, 0.02480211187319078), (262, 0.0), (263, 0.0), (264, 0.15469636568606276), (265, 0.028764076501405677), (266, 0.018624385832865055), (267, 0.0), (268, 0.026422481824253698), (269, 0.028171858196767707), (270, 0.0), (271, 0.031187338411667275), (272, 0.2394598076868609), (273, 0.0), (274, 0.02795762854181821), (275, 0.0), (276, 0.0), (277, 0.0), (278, 0.0), (279, 0.024791097017776206), (280, 0.028948262153331124), (281, 0.0), (282, 0.0), (283, 0.023868566574858276), (284, 0.022347037492039944), (285, 0.0239555943152562), (286, 0.019844772457309992), (287, 0.0), (288, 0.0), (289, 0.0), (290, 0.0), (291, 0.0), (292, 0.0), (293, 0.029673567346008844), (294, 0.0), (295, 0.0), (296, 0.02403516520042175), (297, 0.22610053274029074), (298, 0.0), (299, 0.0), (300, 0.028267851991923987), (301, 0.028690268154300775), (302, 0.024639275716950678), (303, 0.025923866005097135), (304, 0.023263160459514647), (305, 0.0), (306, 0.0), (307, 0.018053582902208497), (308, 0.0), (309, 0.021906770210538943), (310, 0.027295033659358394), (311, 0.0), (312, 0.0), (313, 0.022029382763756745), (314, 0.0), (315, 0.0), (316, 0.0), (317, 0.0), (318, 0.0), (319, 0.025911078500328776), (320, 0.024355095280382065), (321, 0.0), (322, 0.0), (323, 0.02243411462567545), (324, 0.0), (325, 0.025154113678287512), (326, 0.0), (327, 0.027954346462943175), (328, 0.02893075258162104)]\n"
          ]
        }
      ]
    },
    {
      "cell_type": "code",
      "source": [
        "len(similarity_score)"
      ],
      "metadata": {
        "id": "3Lf6hXsagkmL",
        "colab": {
          "base_uri": "https://localhost:8080/"
        },
        "outputId": "88e8b487-9590-4048-b61d-133b471caee4"
      },
      "execution_count": 28,
      "outputs": [
        {
          "output_type": "execute_result",
          "data": {
            "text/plain": [
              "329"
            ]
          },
          "metadata": {},
          "execution_count": 28
        }
      ]
    },
    {
      "cell_type": "code",
      "source": [
        "#sorting the movies based on their similarity score\n",
        "sorted_similar_movies = sorted(similarity_score, key = lambda x:x[1], reverse=True)\n",
        "print(sorted_similar_movies)"
      ],
      "metadata": {
        "id": "l2GfJY-sg43O",
        "colab": {
          "base_uri": "https://localhost:8080/"
        },
        "outputId": "a7f41191-e3fd-4db8-8d53-1114d5a0d7a3"
      },
      "execution_count": 29,
      "outputs": [
        {
          "output_type": "stream",
          "name": "stdout",
          "text": [
            "[(1, 1.0000000000000002), (12, 0.2713869984985855), (47, 0.2598435923570482), (223, 0.2598435923570482), (272, 0.2394598076868609), (35, 0.23633493008211426), (110, 0.23633493008211426), (96, 0.2314206197642128), (145, 0.22842557578814313), (297, 0.22610053274029074), (65, 0.19734824603852183), (264, 0.15469636568606276), (83, 0.04420600473514908), (221, 0.041374266027189806), (174, 0.03240233248326921), (150, 0.0313573130996704), (201, 0.0312813669121083), (10, 0.031187338411667275), (245, 0.031187338411667275), (271, 0.031187338411667275), (7, 0.030996017660517693), (45, 0.029878323989274345), (293, 0.029673567346008844), (215, 0.029613272555807268), (280, 0.028948262153331124), (62, 0.02893075258162104), (156, 0.02893075258162104), (328, 0.02893075258162104), (243, 0.02891610885561469), (265, 0.028764076501405677), (21, 0.028742052357770845), (257, 0.028690268154300775), (301, 0.028690268154300775), (121, 0.02859028398168388), (100, 0.028361452006414357), (128, 0.028361452006414357), (300, 0.028267851991923987), (115, 0.028244344342524364), (97, 0.028171858196767707), (140, 0.028171858196767707), (269, 0.028171858196767707), (154, 0.027992434944401987), (126, 0.02795762854181821), (274, 0.02795762854181821), (327, 0.027954346462943175), (26, 0.027871029323693685), (51, 0.027763798961781817), (235, 0.027434126954727498), (165, 0.027370163007129876), (167, 0.027370163007129876), (49, 0.02732016643729545), (95, 0.027295033659358394), (310, 0.027295033659358394), (3, 0.027219519895822962), (225, 0.0270383330032714), (227, 0.026831319259811467), (63, 0.026510718859468322), (92, 0.026510718859468322), (252, 0.026510718859468322), (25, 0.02646499235563454), (268, 0.026422481824253698), (134, 0.026348027010518933), (233, 0.026325076628771756), (105, 0.026000332319730483), (111, 0.025958189380686236), (303, 0.025923866005097135), (319, 0.025911078500328776), (22, 0.025792100568123907), (180, 0.02564883146478757), (164, 0.025519141606280785), (103, 0.02550161192060776), (200, 0.025379581210419278), (224, 0.025243041056181508), (249, 0.025243041056181508), (24, 0.02523672866575574), (52, 0.025154113678287512), (325, 0.025154113678287512), (15, 0.024851983285863556), (93, 0.024851983285863556), (195, 0.02480211187319078), (261, 0.02480211187319078), (279, 0.024791097017776206), (302, 0.024639275716950678), (198, 0.024572261880047973), (320, 0.024355095280382065), (123, 0.02417054243696602), (144, 0.02417054243696602), (226, 0.02417054243696602), (0, 0.02412506802390135), (296, 0.02403516520042175), (285, 0.0239555943152562), (66, 0.02392580725616584), (8, 0.023910972881478955), (283, 0.023868566574858276), (79, 0.023787902496513903), (194, 0.023787902496513903), (219, 0.02363880328739977), (220, 0.02363880328739977), (61, 0.023599859609385182), (171, 0.023510409451269858), (6, 0.02345791242408337), (131, 0.023401693910854057), (179, 0.023401693910854057), (304, 0.023263160459514647), (102, 0.023168167044818153), (236, 0.02315708048641605), (210, 0.02314796451728254), (197, 0.023033705350720145), (127, 0.02293099440342292), (71, 0.022890046071782456), (133, 0.022820639655766244), (323, 0.02243411462567545), (192, 0.022383496008018887), (284, 0.022347037492039944), (162, 0.02228961530293056), (142, 0.022280823582209747), (207, 0.022227707751646897), (189, 0.022178470430645567), (313, 0.022029382763756745), (309, 0.021906770210538943), (84, 0.02188174767708863), (37, 0.021881747677088625), (191, 0.021596624327428315), (114, 0.021596624327428312), (27, 0.021557633187818687), (82, 0.02152897664908585), (216, 0.021506902416031697), (101, 0.021322363822450906), (147, 0.021322363822450906), (152, 0.021322363822450906), (67, 0.02048979461309887), (241, 0.020447320209984098), (159, 0.020266174807358296), (190, 0.020110322842733407), (203, 0.019917212304659725), (211, 0.019844772457309992), (286, 0.019844772457309992), (86, 0.01982319048860822), (248, 0.019701475215889327), (135, 0.01949259999950466), (231, 0.018911547806398272), (266, 0.018624385832865055), (175, 0.01806524852257194), (307, 0.018053582902208497), (173, 0.017475564185273854), (122, 0.017382159129534894), (255, 0.013122446541547544), (2, 0.0), (4, 0.0), (5, 0.0), (9, 0.0), (11, 0.0), (13, 0.0), (14, 0.0), (16, 0.0), (17, 0.0), (18, 0.0), (19, 0.0), (20, 0.0), (23, 0.0), (28, 0.0), (29, 0.0), (30, 0.0), (31, 0.0), (32, 0.0), (33, 0.0), (34, 0.0), (36, 0.0), (38, 0.0), (39, 0.0), (40, 0.0), (41, 0.0), (42, 0.0), (43, 0.0), (44, 0.0), (46, 0.0), (48, 0.0), (50, 0.0), (53, 0.0), (54, 0.0), (55, 0.0), (56, 0.0), (57, 0.0), (58, 0.0), (59, 0.0), (60, 0.0), (64, 0.0), (68, 0.0), (69, 0.0), (70, 0.0), (72, 0.0), (73, 0.0), (74, 0.0), (75, 0.0), (76, 0.0), (77, 0.0), (78, 0.0), (80, 0.0), (81, 0.0), (85, 0.0), (87, 0.0), (88, 0.0), (89, 0.0), (90, 0.0), (91, 0.0), (94, 0.0), (98, 0.0), (99, 0.0), (104, 0.0), (106, 0.0), (107, 0.0), (108, 0.0), (109, 0.0), (112, 0.0), (113, 0.0), (116, 0.0), (117, 0.0), (118, 0.0), (119, 0.0), (120, 0.0), (124, 0.0), (125, 0.0), (129, 0.0), (130, 0.0), (132, 0.0), (136, 0.0), (137, 0.0), (138, 0.0), (139, 0.0), (141, 0.0), (143, 0.0), (146, 0.0), (148, 0.0), (149, 0.0), (151, 0.0), (153, 0.0), (155, 0.0), (157, 0.0), (158, 0.0), (160, 0.0), (161, 0.0), (163, 0.0), (166, 0.0), (168, 0.0), (169, 0.0), (170, 0.0), (172, 0.0), (176, 0.0), (177, 0.0), (178, 0.0), (181, 0.0), (182, 0.0), (183, 0.0), (184, 0.0), (185, 0.0), (186, 0.0), (187, 0.0), (188, 0.0), (193, 0.0), (196, 0.0), (199, 0.0), (202, 0.0), (204, 0.0), (205, 0.0), (206, 0.0), (208, 0.0), (209, 0.0), (212, 0.0), (213, 0.0), (214, 0.0), (217, 0.0), (218, 0.0), (222, 0.0), (228, 0.0), (229, 0.0), (230, 0.0), (232, 0.0), (234, 0.0), (237, 0.0), (238, 0.0), (239, 0.0), (240, 0.0), (242, 0.0), (244, 0.0), (246, 0.0), (247, 0.0), (250, 0.0), (251, 0.0), (253, 0.0), (254, 0.0), (256, 0.0), (258, 0.0), (259, 0.0), (260, 0.0), (262, 0.0), (263, 0.0), (267, 0.0), (270, 0.0), (273, 0.0), (275, 0.0), (276, 0.0), (277, 0.0), (278, 0.0), (281, 0.0), (282, 0.0), (287, 0.0), (288, 0.0), (289, 0.0), (290, 0.0), (291, 0.0), (292, 0.0), (294, 0.0), (295, 0.0), (298, 0.0), (299, 0.0), (305, 0.0), (306, 0.0), (308, 0.0), (311, 0.0), (312, 0.0), (314, 0.0), (315, 0.0), (316, 0.0), (317, 0.0), (318, 0.0), (321, 0.0), (322, 0.0), (324, 0.0), (326, 0.0)]\n"
          ]
        }
      ]
    },
    {
      "cell_type": "code",
      "source": [
        "# print the name of similar movies based on the index\n",
        "print('Movies suggested for you: \\n')\n",
        "i = 1\n",
        "for movie in sorted_similar_movies:\n",
        "  index = movie[0]\n",
        "  title_from_index = movies_data[movies_data.index==index]['MovieName'].values[0]\n",
        "  if(i<30):\n",
        "    print(i,'.',title_from_index)\n",
        "    i+=1"
      ],
      "metadata": {
        "id": "_5Rnj5xeid7l",
        "colab": {
          "base_uri": "https://localhost:8080/"
        },
        "outputId": "7bb169e1-12d9-477b-8c4d-aef4eb81f1ec"
      },
      "execution_count": 30,
      "outputs": [
        {
          "output_type": "stream",
          "name": "stdout",
          "text": [
            "Movies suggested for you: \n",
            "\n",
            "1 . 7 Aum Arivu\n",
            "2 . Thuppakki\n",
            "3 . Kaththi\n",
            "4 . Sarkar\n",
            "5 . Kaappaan\n",
            "6 . Singam 2\n",
            "7 . Singam 3\n",
            "8 . 24\n",
            "9 . Spyder\n",
            "10 . NGK\n",
            "11 . Pasanga 2\n",
            "12 . Thaanaa Serndha Koottam\n",
            "13 . I\n",
            "14 . 2\n",
            "15 . Vanamagan\n",
            "16 . Thupparivaalan\n",
            "17 . Kavan\n",
            "18 . Aadukalam\n",
            "19 . Chinababu\n",
            "20 . Asuran\n",
            "21 . Ko\n",
            "22 . Lingaa\n",
            "23 . Sindhubaadh\n",
            "24 . Maari 2\n",
            "25 . Jackpot\n",
            "26 . Veeram\n",
            "27 . Vivegam\n",
            "28 . Viswasam\n",
            "29 . Junga\n"
          ]
        }
      ]
    },
    {
      "cell_type": "markdown",
      "source": [
        "Movie Recommendation System"
      ],
      "metadata": {
        "id": "P0Cmvw4DnvDy"
      }
    },
    {
      "source": [
        "movie_name = input('Enter your favourite movie name : ')\n",
        "\n",
        "list_of_all_titles = movies_data['MovieName'].tolist()\n",
        "\n",
        "find_close_match = difflib.get_close_matches(movie_name, list_of_all_titles)\n",
        "\n",
        "close_match = find_close_match[0]\n",
        "\n",
        "# Extract the index as an integer\n",
        "index_of_the_movie = movies_data[movies_data['MovieName'] == close_match].index[0]\n",
        "\n",
        "similarity_score = list(enumerate(similarity[index_of_the_movie]))\n",
        "\n",
        "len(similarity_score)\n",
        "\n",
        "sorted_similar_movies = sorted(similarity_score, key = lambda x:x[1], reverse=True)\n",
        "\n",
        "print('Movies suggested for you: \\n')\n",
        "i = 1\n",
        "for movie in sorted_similar_movies:\n",
        "  index = movie[0]\n",
        "  title_from_index = movies_data[movies_data.index==index]['MovieName'].values[0]\n",
        "  if(i<30):\n",
        "    print(i,'.',title_from_index)\n",
        "    i+=1"
      ],
      "cell_type": "code",
      "metadata": {
        "colab": {
          "base_uri": "https://localhost:8080/"
        },
        "id": "2RCIe9rd5OJY",
        "outputId": "e71d460f-85d7-4095-ce67-1ee5fa3d85a0"
      },
      "execution_count": 33,
      "outputs": [
        {
          "output_type": "stream",
          "name": "stdout",
          "text": [
            "Enter your favourite movie name : Junga\n",
            "Movies suggested for you: \n",
            "\n",
            "1 . Junga\n",
            "2 . Kavan\n",
            "3 . Sindhubaadh\n",
            "4 . 96\n",
            "5 . Seethakaathi\n",
            "6 . Pizza\n",
            "7 . Aandavan Kattalai\n",
            "8 . Pannaiyarum Padminiyum\n",
            "9 . Super Deluxe\n",
            "10 . Dharmadurai\n",
            "11 . Uriyadi\n",
            "12 . Uriyadi 2\n",
            "13 . Naanum Rowdy Thaan\n",
            "14 . Soodhu Kavvum\n",
            "15 . Puriyaatha Puthir\n",
            "16 . Kadhalum Kadanthu Pogum\n",
            "17 . Naduvula Konjam Pakkatha Kaanom\n",
            "18 . Vanamagan\n",
            "19 . Thuppakki\n",
            "20 . Kaththi\n",
            "21 . Sarkar\n",
            "22 . Sketch\n",
            "23 . Pichaikkaran\n",
            "24 . Annadurai\n",
            "25 . Bairavaa\n",
            "26 . Theri\n",
            "27 . Mersal\n",
            "28 . Bigil\n",
            "29 . Yaman\n"
          ]
        }
      ]
    }
  ]
}